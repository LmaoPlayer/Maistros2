{
 "cells": [
  {
   "cell_type": "markdown",
   "metadata": {},
   "source": [
    "# Les 2: Data cleaning + lineaire regressie"
   ]
  },
  {
   "cell_type": "code",
   "execution_count": 69,
   "metadata": {},
   "outputs": [],
   "source": [
    "from sklearn import linear_model\n",
    "import csv\n",
    "import numpy as np\n",
    "regr = linear_model.LinearRegression()\n",
    "import matplotlib.pyplot as plt"
   ]
  },
  {
   "cell_type": "code",
   "execution_count": 70,
   "metadata": {},
   "outputs": [],
   "source": [
    "def SetUpData(File):\n",
    "    print(File)\n",
    "    GeslachtVal = []\n",
    "    LengteVal = []\n",
    "    MaatVal = []\n",
    "    File\n",
    "    for regel in File:\n",
    "        try:\n",
    "            if regel[0] != \"NA\" and regel[1] != \"NA\" and regel[2] != \"NA\" and float(regel[1]) < 280 and int(regel[2]) < 75 and float(regel[1]) > 50:\n",
    "                LengteVal.append(float(regel[1]))\n",
    "                MaatVal.append(int(regel[2]))\n",
    "                GeslachtVal.append(str(regel[0]))\n",
    "            else:\n",
    "                print(\"FallOff\")\n",
    "        except:\n",
    "            continue\n",
    "            \n",
    "    print(GeslachtVal[0])\n",
    "    print(LengteVal[0])\n",
    "    print(MaatVal[0])\n",
    "\n",
    "    Gwaarden_lr = []\n",
    "    for x in GeslachtVal:\n",
    "        Gwaarden_lr.append([x])\n",
    "    Lwaarden_lr = []\n",
    "    for x in LengteVal:\n",
    "        Lwaarden_lr.append([x])\n",
    "    Mwaarden_lr = []\n",
    "    for x in MaatVal:\n",
    "        Mwaarden_lr.append([x])\n",
    "    \n",
    "\n",
    "    return Gwaarden_lr, Lwaarden_lr, Mwaarden_lr, GeslachtVal, LengteVal, MaatVal"
   ]
  },
  {
   "cell_type": "code",
   "execution_count": 71,
   "metadata": {},
   "outputs": [
    {
     "name": "stdout",
     "output_type": "stream",
     "text": [
      "<_csv.reader object at 0x0000021905DBEF20>\n",
      "vrouw\n",
      "160.0\n",
      "40\n",
      "[['vrouw'], ['vrouw'], ['vrouw'], ['vrouw'], ['man'], ['vrouw'], ['vrouw'], ['vrouw'], ['vrouw'], ['man'], ['vrouw'], ['man'], ['vrouw'], ['vrouw'], ['vrouw'], ['man'], ['vrouw'], ['vrouw'], ['vrouw'], ['vrouw'], ['vrouw'], ['vrouw'], ['vrouw'], ['vrouw'], ['vrouw'], ['vrouw'], ['man'], ['vrouw'], ['vrouw'], ['vrouw'], ['vrouw'], ['vrouw'], ['vrouw'], ['vrouw'], ['vrouw'], ['vrouw'], ['vrouw'], ['vrouw'], ['vrouw'], ['vrouw'], ['vrouw'], ['man'], ['man'], ['vrouw']]\n",
      "[[160.0], [171.0], [174.0], [176.0], [195.0], [157.0], [160.0], [178.0], [168.0], [171.0], [165.0], [175.0], [163.0], [158.0], [159.0], [183.0], [155.0], [172.0], [164.0], [158.0], [174.0], [164.0], [168.0], [168.0], [163.0], [160.0], [183.0], [161.0], [162.0], [165.0], [164.0], [161.0], [163.0], [169.0], [171.0], [163.0], [159.0], [180.0], [168.0], [170.0], [168.0], [180.0], [183.0], [170.0]]\n",
      "[[40], [39], [39], [40], [46], [37], [38], [39], [38], [41], [39], [44], [38], [37], [38], [44], [37], [39], [39], [35], [37], [37], [38], [38], [37], [37], [46], [38], [36], [37], [36], [37], [39], [40], [39], [38], [36], [42], [38], [38], [38], [42], [44], [40]]\n"
     ]
    }
   ],
   "source": [
    "csvSchoenen = csv.reader(open(\"schoenmaatlengte.csv\", \"r\"))\n",
    "Gwaarden, Lwaarden, Mwaarden, G, L, M = SetUpData(csvSchoenen)\n",
    "\n",
    "print(Gwaarden)\n",
    "print(Lwaarden)\n",
    "print(Mwaarden)"
   ]
  },
  {
   "cell_type": "code",
   "execution_count": 72,
   "metadata": {},
   "outputs": [
    {
     "data": {
      "image/png": "[encoded data removed]",
      "text/plain": [
       "<Figure size 640x480 with 1 Axes>"
      ]
     },
     "metadata": {},
     "output_type": "display_data"
    }
   ],
   "source": [
    "\n",
    "colorsM = [(0.0,1.0,1.0)]\n",
    "colorsV = [(1.0,0.0,0.0)]\n",
    "\n",
    "VL, VM, ML, MM = [], [], [], []\n",
    "\n",
    "for i in range(len(G)):\n",
    "    if G[i] == \"vrouw\":\n",
    "        VL.append(L[i])\n",
    "        VM.append(M[i])\n",
    "    else:\n",
    "        ML.append(L[i])\n",
    "        MM.append(M[i])\n",
    "         \n",
    "plt.scatter(ML, MM, c=colorsM)\n",
    "plt.scatter(VL, VM, c=colorsV)\n",
    "plt.show()"
   ]
  },
  {
   "cell_type": "code",
   "execution_count": 73,
   "metadata": {},
   "outputs": [],
   "source": [
    "def frequentieTabel(listToUse):\n",
    "    Tabel = {}\n",
    "    for item in listToUse:\n",
    "        if item in Tabel:\n",
    "            Tabel[item] += 1\n",
    "        else:\n",
    "            Tabel[item] = 1\n",
    "    return Tabel"
   ]
  },
  {
   "cell_type": "code",
   "execution_count": 74,
   "metadata": {},
   "outputs": [
    {
     "name": "stdout",
     "output_type": "stream",
     "text": [
      "{'vrouw': 37, 'man': 7}\n",
      "{160.0: 3, 171.0: 2, 174.0: 2, 176.0: 1, 157.0: 1, 178.0: 1, 168.0: 5, 165.0: 2, 163.0: 4, 158.0: 2, 159.0: 2, 155.0: 1, 172.0: 1, 164.0: 3, 161.0: 2, 162.0: 1, 169.0: 1, 180.0: 1, 170.0: 2}\n",
      "{40: 4, 39: 8, 37: 9, 38: 11, 35: 1, 36: 3, 42: 1}\n",
      "{195.0: 1, 171.0: 1, 175.0: 1, 183.0: 3, 180.0: 1}\n",
      "{46: 2, 41: 1, 44: 3, 42: 1}\n"
     ]
    },
    {
     "data": {
      "text/plain": [
       "<BarContainer object of 2 artists>"
      ]
     },
     "execution_count": 74,
     "metadata": {},
     "output_type": "execute_result"
    },
    {
     "data": {
      "image/png": "[encoded data removed]",
      "text/plain": [
       "<Figure size 640x480 with 1 Axes>"
      ]
     },
     "metadata": {},
     "output_type": "display_data"
    }
   ],
   "source": [
    "Ftabel = frequentieTabel(G)\n",
    "print(Ftabel)\n",
    "print(frequentieTabel(VL))\n",
    "print(frequentieTabel(VM))\n",
    "print(frequentieTabel(ML))\n",
    "print(frequentieTabel(MM))\n",
    "\n",
    "vals, numbahs = [], []\n",
    "for key in Ftabel:\n",
    "    vals.append(key)\n",
    "    numbahs.append(Ftabel[key])\n",
    "\n",
    "NewColors = [[1.0,0.0,1.0],[0.0,1.0,1.0]]\n",
    "plt.bar(vals, height=numbahs, color=NewColors)\n",
    "\n"
   ]
  },
  {
   "cell_type": "code",
   "execution_count": 75,
   "metadata": {},
   "outputs": [],
   "source": [
    "def pas_aan_voor_LR(lister):\n",
    "    xwaarden_lr = []\n",
    "    for x in lister:\n",
    "        xwaarden_lr.append([x])\n",
    "\n",
    "    return xwaarden_lr"
   ]
  },
  {
   "cell_type": "code",
   "execution_count": 78,
   "metadata": {},
   "outputs": [],
   "source": [
    "def accuracy(voorspellingen, antwoorden):\n",
    "    correct = 0\n",
    "    for i in range(len(voorspellingen)):\n",
    "        if voorspellingen[i] == antwoorden[i]:\n",
    "            correct += 1\n",
    "\n",
    "    print(str((correct/len(voorspellingen))*100)+\"%\")"
   ]
  },
  {
   "cell_type": "code",
   "execution_count": 79,
   "metadata": {},
   "outputs": [
    {
     "name": "stdout",
     "output_type": "stream",
     "text": [
      "<_csv.reader object at 0x0000021905E6EEC0>\n",
      "FallOff\n",
      "FallOff\n",
      "FallOff\n",
      "FallOff\n",
      "FallOff\n",
      "FallOff\n",
      "vrouw\n",
      "172.0\n",
      "39\n",
      "0.0%\n"
     ]
    }
   ],
   "source": [
    "testSet = csv.reader(open(\"test_set.csv\", \"r\"))\n",
    "GwaardenTest, LwaardenTest, MwaardenTest, GTest, LTest, MTest = SetUpData(testSet)\n",
    "\n",
    "regr.fit(pas_aan_voor_LR(VL), VM)\n",
    "\n",
    "VLTest, VMTest, MLTest, MMTest = [], [], [], []\n",
    "\n",
    "for i in range(len(GTest)):\n",
    "    if GTest[i] == \"vrouw\":\n",
    "        VLTest.append(LTest[i])\n",
    "        VMTest.append(MTest[i])\n",
    "    else:\n",
    "        MLTest.append(LTest[i])\n",
    "        MMTest.append(MTest[i])\n",
    "\n",
    "prediction = regr.predict(pas_aan_voor_LR(VL))\n",
    "\n",
    "accuracy(prediction, VMTest)"
   ]
  }
 ],
 "metadata": {
  "kernelspec": {
   "display_name": ".venv",
   "language": "python",
   "name": "python3"
  },
  "language_info": {
   "codemirror_mode": {
    "name": "ipython",
    "version": 3
   },
   "file_extension": ".py",
   "mimetype": "text/x-python",
   "name": "python",
   "nbconvert_exporter": "python",
   "pygments_lexer": "ipython3",
   "version": "3.11.9"
  }
 },
 "nbformat": 4,
 "nbformat_minor": 2
}
